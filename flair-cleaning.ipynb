{
 "cells": [
  {
   "cell_type": "code",
   "execution_count": 80,
   "metadata": {},
   "outputs": [],
   "source": [
    "import pandas as pd\n",
    "import numpy as np\n",
    "pd.options.display.max_rows = 320\n",
    "df_scrape = pd.read_csv(\"/Users/jorit/Git/HLS-scraper/hls_dump/22_10_22_hls_people_hist_hub_flair.csv\", sep=\";\")"
   ]
  },
  {
   "cell_type": "code",
   "execution_count": 97,
   "metadata": {},
   "outputs": [
    {
     "data": {
      "text/plain": [
       "Zürich                        13467\n",
       "Bern                           9256\n",
       "Basel                          8659\n",
       "Genf                           7721\n",
       "Schweiz                        4578\n",
       "                              ...  \n",
       "Gasthof zur Krone                 1\n",
       "Hotel Kronenhof Bellavista        1\n",
       "Grand Hotel Kronenhof             1\n",
       "Baltschiedertal                   1\n",
       "Burg Bresnitz                     1\n",
       "Name: flair_locations, Length: 19508, dtype: int64"
      ]
     },
     "execution_count": 97,
     "metadata": {},
     "output_type": "execute_result"
    }
   ],
   "source": [
    "# removing weird character locations\n",
    "df_scrape[\"flair_locations\"] = df_scrape[\"flair_locations\"].str.split(\",\").apply(lambda x: np.nan if type(x) is float else [item for item in x if len(item) > 2]).apply(lambda x: np.nan if type(x) is float else \",\".join(x))\n",
    "df_scrape[\"flair_locations\"].str.split(\",\").explode().value_counts()"
   ]
  },
  {
   "cell_type": "code",
   "execution_count": 82,
   "metadata": {},
   "outputs": [
    {
     "data": {
      "text/plain": [
       "ETH Zürich                                       997\n",
       "Schweiz                                          905\n",
       "SP                                               423\n",
       "Bern                                             352\n",
       "Zürich                                           334\n",
       "                                                ... \n",
       "Neuen Vorwärts                                     1\n",
       "Fraumünsterabtei                                   1\n",
       "Creditanstalt Zug                                  1\n",
       "Jahrbücher für Nationalökonomie und Statistik      1\n",
       "Züst und Bachmeier AG                              1\n",
       "Name: flair_organizations, Length: 27154, dtype: int64"
      ]
     },
     "execution_count": 82,
     "metadata": {},
     "output_type": "execute_result"
    }
   ],
   "source": [
    "df_scrape[\"flair_organizations\"] = df_scrape[\"flair_organizations\"].str.split(\",\").apply(lambda x: np.nan if type(x) is float else [item for item in x if len(item) > 1]).apply(lambda x: np.nan if type(x) is float else \",\".join(x))\n",
    "df_scrape[\"flair_organizations\"].str.split(\",\").explode().value_counts()"
   ]
  },
  {
   "cell_type": "code",
   "execution_count": 83,
   "metadata": {},
   "outputs": [
    {
     "data": {
      "text/plain": [
       "1 . Weltkrieg        124\n",
       "Gulden               107\n",
       "2 . Weltkrieg         85\n",
       "2 . Weltkriegs        72\n",
       "Sonderbundskrieg      70\n",
       "                    ... \n",
       "Vernets d'Arve         1\n",
       "Lehren der             1\n",
       "Sarnafil               1\n",
       "Au gré des choses      1\n",
       "Missale                1\n",
       "Name: flair_misc, Length: 12761, dtype: int64"
      ]
     },
     "execution_count": 83,
     "metadata": {},
     "output_type": "execute_result"
    }
   ],
   "source": [
    "df_scrape[\"flair_misc\"] = df_scrape[\"flair_misc\"].str.split(\",\").apply(lambda x: np.nan if type(x) is float else [item for item in x if len(item) > 1]).apply(lambda x: np.nan if type(x) is float else \",\".join(x))\n",
    "df_scrape[\"flair_misc\"].str.split(\",\").explode().value_counts()"
   ]
  },
  {
   "cell_type": "code",
   "execution_count": 84,
   "metadata": {},
   "outputs": [
    {
     "data": {
      "text/plain": [
       "Jakob                          937\n",
       "Johannes                       926\n",
       "Heinrich                       921\n",
       "Johann                         652\n",
       "Hans                           600\n",
       "                              ... \n",
       "Franziskus Ziegler               1\n",
       "Katharina Altorfer               1\n",
       "Lot Stimmer                      1\n",
       "Margaretha Catharina Helena      1\n",
       "Catharina Hiltbrunner            1\n",
       "Name: flair_person, Length: 66337, dtype: int64"
      ]
     },
     "execution_count": 84,
     "metadata": {},
     "output_type": "execute_result"
    }
   ],
   "source": [
    "df_scrape[\"flair_person\"] = df_scrape[\"flair_person\"].str.split(\",\").apply(lambda x: np.nan if type(x) is float else [item for item in x if len(item) > 2]).apply(lambda x: np.nan if type(x) is float else \",\".join(x))\n",
    "df_scrape[\"flair_person\"].str.split(\",\").explode().value_counts()"
   ]
  },
  {
   "cell_type": "code",
   "execution_count": 119,
   "metadata": {},
   "outputs": [
    {
     "data": {
      "text/plain": [
       "Zürich                        13467\n",
       "Bern                           9256\n",
       "Basel                          8659\n",
       "Genf                           7721\n",
       "Schweiz                        4578\n",
       "                              ...  \n",
       "Gasthof zur Krone                 1\n",
       "Hotel Kronenhof Bellavista        1\n",
       "Grand Hotel Kronenhof             1\n",
       "Baltschiedertal                   1\n",
       "Burg Bresnitz                     1\n",
       "Name: flair_locations, Length: 19508, dtype: int64"
      ]
     },
     "execution_count": 119,
     "metadata": {},
     "output_type": "execute_result"
    }
   ],
   "source": [
    "#count unique values string split by comma\n",
    "df_scrape[\"flair_locations\"].str.split(\",\").explode().value_counts()"
   ]
  },
  {
   "cell_type": "code",
   "execution_count": 126,
   "metadata": {},
   "outputs": [],
   "source": [
    "df_locations = pd.DataFrame(df_scrape[\"flair_locations\"].str.split(\",\").explode().unique())\n",
    "df_locations.columns = [\"location\"]"
   ]
  },
  {
   "cell_type": "code",
   "execution_count": 136,
   "metadata": {},
   "outputs": [
    {
     "data": {
      "text/html": [
       "<div>\n",
       "<style scoped>\n",
       "    .dataframe tbody tr th:only-of-type {\n",
       "        vertical-align: middle;\n",
       "    }\n",
       "\n",
       "    .dataframe tbody tr th {\n",
       "        vertical-align: top;\n",
       "    }\n",
       "\n",
       "    .dataframe thead th {\n",
       "        text-align: right;\n",
       "    }\n",
       "</style>\n",
       "<table border=\"1\" class=\"dataframe\">\n",
       "  <thead>\n",
       "    <tr style=\"text-align: right;\">\n",
       "      <th></th>\n",
       "      <th>location</th>\n",
       "    </tr>\n",
       "  </thead>\n",
       "  <tbody>\n",
       "    <tr>\n",
       "      <th>0</th>\n",
       "      <td>Pfullendorf</td>\n",
       "    </tr>\n",
       "    <tr>\n",
       "      <th>1</th>\n",
       "      <td>Baden</td>\n",
       "    </tr>\n",
       "    <tr>\n",
       "      <th>2</th>\n",
       "      <td>Solothurn</td>\n",
       "    </tr>\n",
       "    <tr>\n",
       "      <th>3</th>\n",
       "      <td>Prag</td>\n",
       "    </tr>\n",
       "    <tr>\n",
       "      <th>4</th>\n",
       "      <td>Wien</td>\n",
       "    </tr>\n",
       "    <tr>\n",
       "      <th>...</th>\n",
       "      <td>...</td>\n",
       "    </tr>\n",
       "    <tr>\n",
       "      <th>19504</th>\n",
       "      <td>Stadtheater</td>\n",
       "    </tr>\n",
       "    <tr>\n",
       "      <th>19505</th>\n",
       "      <td>Historischen</td>\n",
       "    </tr>\n",
       "    <tr>\n",
       "      <th>19506</th>\n",
       "      <td>Pinacoteca Ambrosiana</td>\n",
       "    </tr>\n",
       "    <tr>\n",
       "      <th>19507</th>\n",
       "      <td>Ödisried</td>\n",
       "    </tr>\n",
       "    <tr>\n",
       "      <th>19508</th>\n",
       "      <td>Burg Bresnitz</td>\n",
       "    </tr>\n",
       "  </tbody>\n",
       "</table>\n",
       "<p>19509 rows × 1 columns</p>\n",
       "</div>"
      ],
      "text/plain": [
       "                    location\n",
       "0                Pfullendorf\n",
       "1                      Baden\n",
       "2                  Solothurn\n",
       "3                       Prag\n",
       "4                       Wien\n",
       "...                      ...\n",
       "19504            Stadtheater\n",
       "19505           Historischen\n",
       "19506  Pinacoteca Ambrosiana\n",
       "19507               Ödisried\n",
       "19508          Burg Bresnitz\n",
       "\n",
       "[19509 rows x 1 columns]"
      ]
     },
     "execution_count": 136,
     "metadata": {},
     "output_type": "execute_result"
    }
   ],
   "source": [
    "df_locations"
   ]
  },
  {
   "cell_type": "code",
   "execution_count": 140,
   "metadata": {},
   "outputs": [],
   "source": [
    "# pandas filter out all locations which contain a number as character\n",
    "df_locations_cleaned = df_locations[df_locations[\"location\"].str.contains(r\"\\d\") == False]"
   ]
  },
  {
   "cell_type": "code",
   "execution_count": 141,
   "metadata": {},
   "outputs": [],
   "source": [
    "# dataframe to csv\n",
    "df_locations_cleaned.to_csv(\"./22_10_22_flair_locations_base.csv\", sep=\";\", index=False)"
   ]
  }
 ],
 "metadata": {
  "kernelspec": {
   "display_name": "Python 3.9.7 ('.venv': poetry)",
   "language": "python",
   "name": "python3"
  },
  "language_info": {
   "codemirror_mode": {
    "name": "ipython",
    "version": 3
   },
   "file_extension": ".py",
   "mimetype": "text/x-python",
   "name": "python",
   "nbconvert_exporter": "python",
   "pygments_lexer": "ipython3",
   "version": "3.9.7"
  },
  "orig_nbformat": 4,
  "vscode": {
   "interpreter": {
    "hash": "df2f6ff44b7f3086462966c6506e9ab2038c2f430a53d80306cce66e72642928"
   }
  }
 },
 "nbformat": 4,
 "nbformat_minor": 2
}
